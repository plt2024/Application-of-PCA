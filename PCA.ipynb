After completing this lab, you will be able to:

Use Principal Component Analysis (PCA) to project 2-D data onto its principal axes
Use PCA for feature space dimensionality reduction
Relate explained variance to feature importance and noise reduction

